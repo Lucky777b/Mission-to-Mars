{
 "cells": [
  {
   "cell_type": "code",
   "execution_count": 1,
   "id": "3809dc22",
   "metadata": {},
   "outputs": [],
   "source": [
    "# Import scraping tools\n",
    "# browser instance from splinter, beautifulsoup object, and driver object for chrome, ChromeDriverManager\n",
    "\n",
    "from splinter import Browser\n",
    "from bs4 import BeautifulSoup as soup\n",
    "from webdriver_manager.chrome import ChromeDriverManager \n"
   ]
  },
  {
   "cell_type": "code",
   "execution_count": 2,
   "id": "4c8f8b73",
   "metadata": {},
   "outputs": [],
   "source": [
    "# Set executable path and initialize a browser\n",
    "# Set Up Splinter \n",
    "\n",
    "executable_path = {'executable_path': ChromeDriverManager().install()}\n",
    "browser = Browser('chrome', **executable_path, headless=False)"
   ]
  },
  {
   "cell_type": "code",
   "execution_count": 3,
   "id": "364e6207",
   "metadata": {},
   "outputs": [],
   "source": [
    "# Visit the Quotes to Scrape site \n",
    "url = 'http://quotes.toscrape.com/'\n",
    "browser.visit(url)"
   ]
  },
  {
   "cell_type": "code",
   "execution_count": 4,
   "id": "ee6be67f",
   "metadata": {},
   "outputs": [],
   "source": [
    "# Parse the HTML\n",
    "html = browser.html\n",
    "html_soup = soup(html, 'html.parser')"
   ]
  },
  {
   "cell_type": "code",
   "execution_count": 5,
   "id": "1e79b916",
   "metadata": {},
   "outputs": [
    {
     "data": {
      "text/plain": [
       "'Top Ten tags'"
      ]
     },
     "execution_count": 5,
     "metadata": {},
     "output_type": "execute_result"
    }
   ],
   "source": [
    "# Scrape the title \n",
    "title = html_soup.find('h2').text\n",
    "title"
   ]
  },
  {
   "cell_type": "code",
   "execution_count": 6,
   "id": "c74909d1",
   "metadata": {},
   "outputs": [
    {
     "name": "stdout",
     "output_type": "stream",
     "text": [
      "love\n",
      "inspirational\n",
      "life\n",
      "humor\n",
      "books\n",
      "reading\n",
      "friendship\n",
      "friends\n",
      "truth\n",
      "simile\n"
     ]
    }
   ],
   "source": [
    "# Scrape the top ten tags \n",
    "tag_box = html_soup.find('div', class_='tags-box')\n",
    "# tag_box\n",
    "tags = tag_box.find_all('a', class_='tag')\n",
    "\n",
    "for tag in tags:\n",
    "    word = tag.text \n",
    "    print(word)"
   ]
  },
  {
   "cell_type": "code",
   "execution_count": 7,
   "id": "a8c84b3c",
   "metadata": {},
   "outputs": [],
   "source": [
    "# Create browser instance again \n",
    "url = 'http://quotes.toscrape.com/'\n",
    "browser.visit(url)"
   ]
  },
  {
   "cell_type": "code",
   "execution_count": 8,
   "id": "e826a85a",
   "metadata": {},
   "outputs": [
    {
     "name": "stdout",
     "output_type": "stream",
     "text": [
      "page: 1 -------\n",
      "“The world as we have created it is a process of our thinking. It cannot be changed without changing our thinking.”\n",
      "page: 1 -------\n",
      "“It is our choices, Harry, that show what we truly are, far more than our abilities.”\n",
      "page: 1 -------\n",
      "“There are only two ways to live your life. One is as though nothing is a miracle. The other is as though everything is a miracle.”\n",
      "page: 1 -------\n",
      "“The person, be it gentleman or lady, who has not pleasure in a good novel, must be intolerably stupid.”\n",
      "page: 1 -------\n",
      "“Imperfection is beauty, madness is genius and it's better to be absolutely ridiculous than absolutely boring.”\n",
      "page: 1 -------\n",
      "“Try not to become a man of success. Rather become a man of value.”\n",
      "page: 1 -------\n",
      "“It is better to be hated for what you are than to be loved for what you are not.”\n",
      "page: 1 -------\n",
      "“I have not failed. I've just found 10,000 ways that won't work.”\n",
      "page: 1 -------\n",
      "“A woman is like a tea bag; you never know how strong it is until it's in hot water.”\n",
      "page: 1 -------\n",
      "“A day without sunshine is like, you know, night.”\n",
      "page: 2 -------\n",
      "“This life is what you make it. No matter what, you're going to mess up sometimes, it's a universal truth. But the good part is you get to decide how you're going to mess it up. Girls will be your friends - they'll act like it anyway. But just remember, some come, some go. The ones that stay with you through everything - they're your true best friends. Don't let go of them. Also remember, sisters make the best friends in the world. As for lovers, well, they'll come and go too. And baby, I hate to say it, most of them - actually pretty much all of them are going to break your heart, but you can't give up because if you give up, you'll never find your soulmate. You'll never find that half who makes you whole and that goes for everything. Just because you fail once, doesn't mean you're gonna fail at everything. Keep trying, hold on, and always, always, always believe in yourself, because if you don't, then who will, sweetie? So keep your head high, keep your chin up, and most importantly, keep smiling, because life's a beautiful thing and there's so much to smile about.”\n",
      "page: 2 -------\n",
      "“It takes a great deal of bravery to stand up to our enemies, but just as much to stand up to our friends.”\n",
      "page: 2 -------\n",
      "“If you can't explain it to a six year old, you don't understand it yourself.”\n",
      "page: 2 -------\n",
      "“You may not be her first, her last, or her only. She loved before she may love again. But if she loves you now, what else matters? She's not perfect—you aren't either, and the two of you may never be perfect together but if she can make you laugh, cause you to think twice, and admit to being human and making mistakes, hold onto her and give her the most you can. She may not be thinking about you every second of the day, but she will give you a part of her that she knows you can break—her heart. So don't hurt her, don't change her, don't analyze and don't expect more than she can give. Smile when she makes you happy, let her know when she makes you mad, and miss her when she's not there.”\n",
      "page: 2 -------\n",
      "“I like nonsense, it wakes up the brain cells. Fantasy is a necessary ingredient in living.”\n",
      "page: 2 -------\n",
      "“I may not have gone where I intended to go, but I think I have ended up where I needed to be.”\n",
      "page: 2 -------\n",
      "“The opposite of love is not hate, it's indifference. The opposite of art is not ugliness, it's indifference. The opposite of faith is not heresy, it's indifference. And the opposite of life is not death, it's indifference.”\n",
      "page: 2 -------\n",
      "“It is not a lack of love, but a lack of friendship that makes unhappy marriages.”\n",
      "page: 2 -------\n",
      "“Good friends, good books, and a sleepy conscience: this is the ideal life.”\n",
      "page: 2 -------\n",
      "“Life is what happens to us while we are making other plans.”\n",
      "page: 3 -------\n",
      "“I love you without knowing how, or when, or from where. I love you simply, without problems or pride: I love you in this way because I do not know any other way of loving but this, in which there is no I or you, so intimate that your hand upon my chest is my hand, so intimate that when I fall asleep your eyes close.”\n",
      "page: 3 -------\n",
      "“For every minute you are angry you lose sixty seconds of happiness.”\n",
      "page: 3 -------\n",
      "“If you judge people, you have no time to love them.”\n",
      "page: 3 -------\n",
      "“Anyone who thinks sitting in church can make you a Christian must also think that sitting in a garage can make you a car.”\n",
      "page: 3 -------\n",
      "“Beauty is in the eye of the beholder and it may be necessary from time to time to give a stupid or misinformed beholder a black eye.”\n",
      "page: 3 -------\n",
      "“Today you are You, that is truer than true. There is no one alive who is Youer than You.”\n",
      "page: 3 -------\n",
      "“If you want your children to be intelligent, read them fairy tales. If you want them to be more intelligent, read them more fairy tales.”\n",
      "page: 3 -------\n",
      "“It is impossible to live without failing at something, unless you live so cautiously that you might as well not have lived at all - in which case, you fail by default.”\n",
      "page: 3 -------\n",
      "“Logic will get you from A to Z; imagination will get you everywhere.”\n",
      "page: 3 -------\n",
      "“One good thing about music, when it hits you, you feel no pain.”\n",
      "page: 4 -------\n",
      "“The more that you read, the more things you will know. The more that you learn, the more places you'll go.”\n",
      "page: 4 -------\n",
      "“Of course it is happening inside your head, Harry, but why on earth should that mean that it is not real?”\n",
      "page: 4 -------\n",
      "“The truth is, everyone is going to hurt you. You just got to find the ones worth suffering for.”\n",
      "page: 4 -------\n",
      "“Not all of us can do great things. But we can do small things with great love.”\n",
      "page: 4 -------\n",
      "“To the well-organized mind, death is but the next great adventure.”\n",
      "page: 4 -------\n",
      "“All you need is love. But a little chocolate now and then doesn't hurt.”\n",
      "page: 4 -------\n",
      "“We read to know we're not alone.”\n",
      "page: 4 -------\n",
      "“Any fool can know. The point is to understand.”\n",
      "page: 4 -------\n",
      "“I have always imagined that Paradise will be a kind of library.”\n",
      "page: 4 -------\n",
      "“It is never too late to be what you might have been.”\n",
      "page: 5 -------\n",
      "“A reader lives a thousand lives before he dies, said Jojen. The man who never reads lives only one.”\n",
      "page: 5 -------\n",
      "“You can never get a cup of tea large enough or a book long enough to suit me.”\n",
      "page: 5 -------\n",
      "“You believe lies so you eventually learn to trust no one but yourself.”\n",
      "page: 5 -------\n",
      "“If you can make a woman laugh, you can make her do anything.”\n",
      "page: 5 -------\n",
      "“Life is like riding a bicycle. To keep your balance, you must keep moving.”\n",
      "page: 5 -------\n",
      "“The real lover is the man who can thrill you by kissing your forehead or smiling into your eyes or just staring into space.”\n",
      "page: 5 -------\n",
      "“A wise girl kisses but doesn't love, listens but doesn't believe, and leaves before she is left.”\n",
      "page: 5 -------\n",
      "“Only in the darkness can you see the stars.”\n",
      "page: 5 -------\n",
      "“It matters not what someone is born, but what they grow to be.”\n",
      "page: 5 -------\n",
      "“Love does not begin and end the way we seem to think it does. Love is a battle, love is a war; love is a growing up.”\n"
     ]
    }
   ],
   "source": [
    "# Create for loop to do all \n",
    "# 1. Create a Beautiful Soup Object \n",
    "# 2. Find all the quotes on the page \n",
    "# 3. Print each quote from the page \n",
    "# 4. Click the \"Next\" button at the bottom of the page \n",
    "\n",
    "for x in range(1,6):\n",
    "    html = browser.html\n",
    "    quote_soup = soup(html, 'html.parser')\n",
    "    quotes = quote_soup.find_all('span', class_ = 'text')\n",
    "    \n",
    "    for quote in quotes:\n",
    "        print('page:', x, '-------')\n",
    "        print(quote.text)\n",
    "    browser.links.find_by_partial_text('Next').click()"
   ]
  },
  {
   "cell_type": "code",
   "execution_count": 9,
   "id": "fb1a5432",
   "metadata": {},
   "outputs": [],
   "source": [
    "# skill drill: scrape the book url list on the first page \n",
    "url = 'http://books.toscrape.com'\n",
    "browser.visit(url)"
   ]
  },
  {
   "cell_type": "code",
   "execution_count": 6,
   "id": "622a7214",
   "metadata": {},
   "outputs": [
    {
     "ename": "AttributeError",
     "evalue": "'NoneType' object has no attribute 'find'",
     "output_type": "error",
     "traceback": [
      "\u001b[0;31m---------------------------------------------------------------------------\u001b[0m",
      "\u001b[0;31mAttributeError\u001b[0m                            Traceback (most recent call last)",
      "Input \u001b[0;32mIn [6]\u001b[0m, in \u001b[0;36m<cell line: 1>\u001b[0;34m()\u001b[0m\n\u001b[1;32m      3\u001b[0m books_soup \u001b[38;5;241m=\u001b[39m soup(html, \u001b[38;5;124m'\u001b[39m\u001b[38;5;124mhtml.parser\u001b[39m\u001b[38;5;124m'\u001b[39m)\n\u001b[1;32m      4\u001b[0m rows \u001b[38;5;241m=\u001b[39m books_soup\u001b[38;5;241m.\u001b[39mfind(\u001b[38;5;124m'\u001b[39m\u001b[38;5;124mol\u001b[39m\u001b[38;5;124m'\u001b[39m, class_\u001b[38;5;241m=\u001b[39m\u001b[38;5;124m'\u001b[39m\u001b[38;5;124mcol_xs-6\u001b[39m\u001b[38;5;124m'\u001b[39m)\n\u001b[0;32m----> 5\u001b[0m books \u001b[38;5;241m=\u001b[39m \u001b[43mrows\u001b[49m\u001b[38;5;241;43m.\u001b[39;49m\u001b[43mfind\u001b[49m(\u001b[38;5;124m'\u001b[39m\u001b[38;5;124marticle\u001b[39m\u001b[38;5;124m'\u001b[39m, class_\u001b[38;5;241m=\u001b[39m\u001b[38;5;124m'\u001b[39m\u001b[38;5;124mproduct_pod\u001b[39m\u001b[38;5;124m'\u001b[39m)\n\u001b[1;32m      6\u001b[0m titles \u001b[38;5;241m=\u001b[39m rows\u001b[38;5;241m.\u001b[39mfind((\u001b[38;5;124m'\u001b[39m\u001b[38;5;124mh3\u001b[39m\u001b[38;5;124m'\u001b[39m), ((\u001b[38;5;124m'\u001b[39m\u001b[38;5;124ma\u001b[39m\u001b[38;5;124m'\u001b[39m)\u001b[38;5;241m==\u001b[39m\u001b[38;5;124m\"\u001b[39m\u001b[38;5;124mtitle\u001b[39m\u001b[38;5;124m\"\u001b[39m))\u001b[38;5;241m.\u001b[39mtext()\n\u001b[1;32m      7\u001b[0m \u001b[38;5;28;01mfor\u001b[39;00m book \u001b[38;5;129;01min\u001b[39;00m titles:\n",
      "\u001b[0;31mAttributeError\u001b[0m: 'NoneType' object has no attribute 'find'"
     ]
    }
   ],
   "source": [
    "for title in range(1,10):\n",
    "    html = browser.html \n",
    "    books_soup = soup(html, 'html.parser')\n",
    "    rows = books_soup.find('ol', class_='col_xs-6')\n",
    "    books = rows.find('article', class_='product_pod')\n",
    "    titles = rows.find(('h3'), (('a')==\"title\")).text()\n",
    "    for book in titles:\n",
    "        name = print(book.text)\n",
    "        print(name)"
   ]
  },
  {
   "cell_type": "code",
   "execution_count": 1,
   "id": "70d1c252",
   "metadata": {},
   "outputs": [
    {
     "ename": "NameError",
     "evalue": "name 'browser' is not defined",
     "output_type": "error",
     "traceback": [
      "\u001b[0;31m---------------------------------------------------------------------------\u001b[0m",
      "\u001b[0;31mNameError\u001b[0m                                 Traceback (most recent call last)",
      "Input \u001b[0;32mIn [1]\u001b[0m, in \u001b[0;36m<cell line: 2>\u001b[0;34m()\u001b[0m\n\u001b[1;32m      1\u001b[0m \u001b[38;5;66;03m# end automated broswer session \u001b[39;00m\n\u001b[0;32m----> 2\u001b[0m \u001b[43mbrowser\u001b[49m\u001b[38;5;241m.\u001b[39mquit()\n",
      "\u001b[0;31mNameError\u001b[0m: name 'browser' is not defined"
     ]
    }
   ],
   "source": [
    "# end automated broswer session \n",
    "browser.quit()"
   ]
  },
  {
   "cell_type": "code",
   "execution_count": null,
   "id": "7374ae6e",
   "metadata": {},
   "outputs": [],
   "source": []
  }
 ],
 "metadata": {
  "kernelspec": {
   "display_name": "PythonData",
   "language": "python",
   "name": "pythondata"
  },
  "language_info": {
   "codemirror_mode": {
    "name": "ipython",
    "version": 3
   },
   "file_extension": ".py",
   "mimetype": "text/x-python",
   "name": "python",
   "nbconvert_exporter": "python",
   "pygments_lexer": "ipython3",
   "version": "3.9.12"
  }
 },
 "nbformat": 4,
 "nbformat_minor": 5
}
